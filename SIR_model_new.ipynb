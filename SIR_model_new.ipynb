{
 "cells": [
  {
   "cell_type": "code",
   "execution_count": 104,
   "metadata": {},
   "outputs": [],
   "source": [
    "# Changes made by Adina"
   ]
  },
  {
   "cell_type": "code",
   "execution_count": 105,
   "metadata": {},
   "outputs": [],
   "source": [
    "from scipy.integrate import odeint\n",
    "import numpy as np\n",
    "import matplotlib.pyplot as plt\n"
   ]
  },
  {
   "cell_type": "markdown",
   "metadata": {},
   "source": [
    "# Let’s run the basic SIR model"
   ]
  },
  {
   "cell_type": "code",
   "execution_count": 106,
   "metadata": {},
   "outputs": [],
   "source": [
    "# describe the model\n",
    "def deriv(y, t, N, beta, gamma, delta, alpha, rho):\n",
    "    S, E, I, R, D = y\n",
    "    dSdt = -beta * S * I / N\n",
    "    dEdt = beta * S * I / N - k * E\n",
    "    dIdt = delta * E -(1 - alpha) * gamma * I - alpha * rho * I\n",
    "    dRdt = (1 - alpha) * gamma * I\n",
    "    dDdt = alpha * rho * I\n",
    "    return dSdt, dEdt, dIdt, dRdt, dDdt"
   ]
  },
  {
   "cell_type": "code",
   "execution_count": 107,
   "metadata": {},
   "outputs": [],
   "source": [
    "# describe the parameters\n",
    "N =  10000000                           # population\n",
    "D = 4.0                                 # number of days the infection lasts\n",
    "gamma = 1.0/D                           # the proportion of infected recovering per day = mean recovery rate\n",
    "delta = 1.0/5.0                         # incubation period of five days\n",
    "R_0 = 10.0                              # R_0 = beta / gamma = \"reproduktionstalet\" dvs hur många nya smittade av varje smittad person\n",
    "beta = R_0 * gamma                      # beta = R_0 * gamma\n",
    "#beta = 2.5                             # number of infections spread per infected person and per time\n",
    "k=1/7                                   # Exposed to Infected\n",
    "alpha = 0.1                             # 10% death rate\n",
    "rho = 1/9                               # 9 days from infection until death\n",
    "S0, E0, I0, R0, D0 = N-1, 1, 0, 0, 0    # initial conditions: one infected, rest susceptible"
   ]
  },
  {
   "cell_type": "code",
   "execution_count": 108,
   "metadata": {},
   "outputs": [],
   "source": [
    "t = np.linspace(0, 99, 100) # Grid of time points (in days)\n",
    "y0 = S0, E0, I0, R0, D0 # Initial conditions vector\n",
    "\n",
    "# Integrate the SIR equations over the time grid, t.\n",
    "ret = odeint(deriv, y0, t, args=(N, beta, gamma, delta, alpha, rho))\n",
    "S, E, I, R, D = ret.T"
   ]
  },
  {
   "cell_type": "code",
   "execution_count": 109,
   "metadata": {},
   "outputs": [],
   "source": [
    "def plotsir(t, S, E, I, R, D):\n",
    "  f, ax = plt.subplots(1,1,figsize=(10,4))\n",
    "  ax.plot(t, S, 'b', alpha=0.7, linewidth=2, label='Susceptible')\n",
    "  ax.plot(t, E, 'y', alpha=0.7, linewidth=2, label='Exposed')\n",
    "  ax.plot(t, I, 'r', alpha=0.7, linewidth=2, label='Infected')\n",
    "  ax.plot(t, R, 'g', alpha=0.7, linewidth=2, label='Recovered')\n",
    "  ax.plot(t, D, 'k', alpha=0.7, linewidth=2, label='Dead')\n",
    "\n",
    "  ax.set_xlabel('Time (days)')\n",
    "\n",
    "  ax.yaxis.set_tick_params(length=0)\n",
    "  ax.xaxis.set_tick_params(length=0)\n",
    "  ax.grid(b=True, which='major', c='w', lw=2, ls='-')\n",
    "  legend = ax.legend()\n",
    "  legend.get_frame().set_alpha(0.5)\n",
    "  for spine in ('top', 'right', 'bottom', 'left'):\n",
    "      ax.spines[spine].set_visible(False)\n",
    "  plt.savefig(\"Plot.png\")\n",
    "  plt.show();"
   ]
  },
  {
   "cell_type": "markdown",
   "metadata": {},
   "source": [
    "plot the graph"
   ]
  },
  {
   "cell_type": "code",
   "execution_count": 110,
   "metadata": {},
   "outputs": [
    {
     "data": {
      "image/png": "[encoded data removed]",
      "text/plain": [
       "<Figure size 720x288 with 1 Axes>"
      ]
     },
     "metadata": {
      "needs_background": "light"
     },
     "output_type": "display_data"
    }
   ],
   "source": [
    "\n",
    "plotsir(t, S, E, I, R, D)"
   ]
  },
  {
   "cell_type": "code",
   "execution_count": null,
   "metadata": {},
   "outputs": [],
   "source": []
  },
  {
   "cell_type": "code",
   "execution_count": null,
   "metadata": {},
   "outputs": [],
   "source": []
  }
 ],
 "metadata": {
  "kernelspec": {
   "display_name": "Python 3",
   "language": "python",
   "name": "python3"
  },
  "language_info": {
   "codemirror_mode": {
    "name": "ipython",
    "version": 3
   },
   "file_extension": ".py",
   "mimetype": "text/x-python",
   "name": "python",
   "nbconvert_exporter": "python",
   "pygments_lexer": "ipython3",
   "version": "3.8.3"
  },
  "varInspector": {
   "cols": {
    "lenName": 16,
    "lenType": 16,
    "lenVar": 40
   },
   "kernels_config": {
    "python": {
     "delete_cmd_postfix": "",
     "delete_cmd_prefix": "del ",
     "library": "var_list.py",
     "varRefreshCmd": "print(var_dic_list())"
    },
    "r": {
     "delete_cmd_postfix": ") ",
     "delete_cmd_prefix": "rm(",
     "library": "var_list.r",
     "varRefreshCmd": "cat(var_dic_list()) "
    }
   },
   "types_to_exclude": [
    "module",
    "function",
    "builtin_function_or_method",
    "instance",
    "_Feature"
   ],
   "window_display": false
  }
 },
 "nbformat": 4,
 "nbformat_minor": 4
}
